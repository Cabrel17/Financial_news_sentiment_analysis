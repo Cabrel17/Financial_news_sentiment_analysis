{
 "cells": [
  {
   "cell_type": "code",
   "execution_count": 2,
   "metadata": {},
   "outputs": [],
   "source": [
    "import pandas as pd\n",
    "import numpy as np\n",
    "import nltk\n",
    "import wordcloud\n",
    "import matplotlib.pyplot as plt\n",
    "import sys\n",
    "import os\n",
    "from nltk.stem import WordNetLemmatizer\n",
    "sys.path.append(os.path.abspath(os.path.join('..'))) # Adding racine path of project to sys.path\n",
    "from src.preprocessing import *\n",
    "from src.visualization import *\n",
    "from nltk.corpus import stopwords, words\n",
    "import warnings\n",
    "from pandarallel import pandarallel\n",
    "from textblob import TextBlob\n",
    "\n",
    "warnings.filterwarnings('ignore')\n"
   ]
  },
  {
   "cell_type": "code",
   "execution_count": 3,
   "metadata": {},
   "outputs": [
    {
     "name": "stdout",
     "output_type": "stream",
     "text": [
      "<class 'pandas.core.frame.DataFrame'>\n",
      "DatetimeIndex: 845770 entries, 2020-06-05 14:30:54+00:00 to 2011-05-12 04:00:00+00:00\n",
      "Data columns (total 6 columns):\n",
      " #   Column           Non-Null Count   Dtype \n",
      "---  ------           --------------   ----- \n",
      " 0   headline         845770 non-null  object\n",
      " 1   url              845770 non-null  object\n",
      " 2   publisher        845770 non-null  object\n",
      " 3   stock            845770 non-null  object\n",
      " 4   headline_length  845770 non-null  int64 \n",
      " 5   headline_new     845768 non-null  object\n",
      "dtypes: int64(1), object(5)\n",
      "memory usage: 45.2+ MB\n"
     ]
    },
    {
     "data": {
      "text/html": [
       "<div>\n",
       "<style scoped>\n",
       "    .dataframe tbody tr th:only-of-type {\n",
       "        vertical-align: middle;\n",
       "    }\n",
       "\n",
       "    .dataframe tbody tr th {\n",
       "        vertical-align: top;\n",
       "    }\n",
       "\n",
       "    .dataframe thead th {\n",
       "        text-align: right;\n",
       "    }\n",
       "</style>\n",
       "<table border=\"1\" class=\"dataframe\">\n",
       "  <thead>\n",
       "    <tr style=\"text-align: right;\">\n",
       "      <th></th>\n",
       "      <th>headline</th>\n",
       "      <th>url</th>\n",
       "      <th>publisher</th>\n",
       "      <th>stock</th>\n",
       "      <th>headline_length</th>\n",
       "      <th>headline_new</th>\n",
       "    </tr>\n",
       "    <tr>\n",
       "      <th>date</th>\n",
       "      <th></th>\n",
       "      <th></th>\n",
       "      <th></th>\n",
       "      <th></th>\n",
       "      <th></th>\n",
       "      <th></th>\n",
       "    </tr>\n",
       "  </thead>\n",
       "  <tbody>\n",
       "    <tr>\n",
       "      <th>2016-02-22 04:00:00+00:00</th>\n",
       "      <td>Trovagene Announces Entered Into Preferred Pro...</td>\n",
       "      <td>https://www.benzinga.com/news/16/02/6492955/tr...</td>\n",
       "      <td>Paul Quintaro</td>\n",
       "      <td>TROV</td>\n",
       "      <td>88</td>\n",
       "      <td>trovagen announc enter prefer provid deal fort...</td>\n",
       "    </tr>\n",
       "    <tr>\n",
       "      <th>2017-01-25 04:00:00+00:00</th>\n",
       "      <td>East West Bancorp Reports Q4 EPS $0.76 vs $0.7...</td>\n",
       "      <td>https://www.benzinga.com/news/earnings/17/01/8...</td>\n",
       "      <td>Hal Lindon</td>\n",
       "      <td>EWBC</td>\n",
       "      <td>80</td>\n",
       "      <td>east west bancorp report q4 ep 0 76 vs 0 71 es...</td>\n",
       "    </tr>\n",
       "    <tr>\n",
       "      <th>2015-06-18 04:00:00+00:00</th>\n",
       "      <td>Chardan: Buy Digital Ally, It's Worth $20/Share</td>\n",
       "      <td>https://www.benzinga.com/analyst-ratings/analy...</td>\n",
       "      <td>Monica Gerson</td>\n",
       "      <td>DGLY</td>\n",
       "      <td>47</td>\n",
       "      <td>chardan buy digit alli worth 20 share</td>\n",
       "    </tr>\n",
       "    <tr>\n",
       "      <th>2017-06-09 04:00:00+00:00</th>\n",
       "      <td>Earnings Growth to Continue in Q2</td>\n",
       "      <td>https://www.benzinga.com/17/06/9592268/earning...</td>\n",
       "      <td>Zacks</td>\n",
       "      <td>ADBE</td>\n",
       "      <td>33</td>\n",
       "      <td>earn growth continu q2</td>\n",
       "    </tr>\n",
       "    <tr>\n",
       "      <th>2018-03-08 04:00:00+00:00</th>\n",
       "      <td>Sapiens Reprots Q4 Adj. EPS $0.12 vs $0.13 Est...</td>\n",
       "      <td>https://www.benzinga.com/news/earnings/18/03/1...</td>\n",
       "      <td>Hal Lindon</td>\n",
       "      <td>SPNS</td>\n",
       "      <td>76</td>\n",
       "      <td>sapien reprot q4 adj ep 0 12 vs 0 13 est sale ...</td>\n",
       "    </tr>\n",
       "  </tbody>\n",
       "</table>\n",
       "</div>"
      ],
      "text/plain": [
       "                                                                    headline  \\\n",
       "date                                                                           \n",
       "2016-02-22 04:00:00+00:00  Trovagene Announces Entered Into Preferred Pro...   \n",
       "2017-01-25 04:00:00+00:00  East West Bancorp Reports Q4 EPS $0.76 vs $0.7...   \n",
       "2015-06-18 04:00:00+00:00    Chardan: Buy Digital Ally, It's Worth $20/Share   \n",
       "2017-06-09 04:00:00+00:00                  Earnings Growth to Continue in Q2   \n",
       "2018-03-08 04:00:00+00:00  Sapiens Reprots Q4 Adj. EPS $0.12 vs $0.13 Est...   \n",
       "\n",
       "                                                                         url  \\\n",
       "date                                                                           \n",
       "2016-02-22 04:00:00+00:00  https://www.benzinga.com/news/16/02/6492955/tr...   \n",
       "2017-01-25 04:00:00+00:00  https://www.benzinga.com/news/earnings/17/01/8...   \n",
       "2015-06-18 04:00:00+00:00  https://www.benzinga.com/analyst-ratings/analy...   \n",
       "2017-06-09 04:00:00+00:00  https://www.benzinga.com/17/06/9592268/earning...   \n",
       "2018-03-08 04:00:00+00:00  https://www.benzinga.com/news/earnings/18/03/1...   \n",
       "\n",
       "                               publisher stock  headline_length  \\\n",
       "date                                                              \n",
       "2016-02-22 04:00:00+00:00  Paul Quintaro  TROV               88   \n",
       "2017-01-25 04:00:00+00:00     Hal Lindon  EWBC               80   \n",
       "2015-06-18 04:00:00+00:00  Monica Gerson  DGLY               47   \n",
       "2017-06-09 04:00:00+00:00          Zacks  ADBE               33   \n",
       "2018-03-08 04:00:00+00:00     Hal Lindon  SPNS               76   \n",
       "\n",
       "                                                                headline_new  \n",
       "date                                                                          \n",
       "2016-02-22 04:00:00+00:00  trovagen announc enter prefer provid deal fort...  \n",
       "2017-01-25 04:00:00+00:00  east west bancorp report q4 ep 0 76 vs 0 71 es...  \n",
       "2015-06-18 04:00:00+00:00              chardan buy digit alli worth 20 share  \n",
       "2017-06-09 04:00:00+00:00                             earn growth continu q2  \n",
       "2018-03-08 04:00:00+00:00  sapien reprot q4 adj ep 0 12 vs 0 13 est sale ...  "
      ]
     },
     "execution_count": 3,
     "metadata": {},
     "output_type": "execute_result"
    }
   ],
   "source": [
    "df3 = pd.read_csv('../data/df2.csv', index_col=0, parse_dates=True)\n",
    "df3.info()\n",
    "df3.sample(5)"
   ]
  },
  {
   "cell_type": "markdown",
   "metadata": {},
   "source": [
    "### Sentiments most occured in the headlines"
   ]
  },
  {
   "cell_type": "code",
   "execution_count": 4,
   "metadata": {},
   "outputs": [
    {
     "name": "stdout",
     "output_type": "stream",
     "text": [
      "INFO: Pandarallel will run on 4 workers.\n",
      "INFO: Pandarallel will use standard multiprocessing data transfer (pipe) to transfer data between the main process and workers.\n",
      "\n",
      "WARNING: You are on Windows. If you detect any issue with pandarallel, be sure you checked out the Troubleshooting page:\n",
      "https://nalepae.github.io/pandarallel/troubleshooting/\n"
     ]
    }
   ],
   "source": [
    "# Polarity related to headline\n",
    "if __name__ == '__main__':\n",
    "   pandarallel.initialize(nb_workers=4) \n",
    "   df3['headline_new'] = df3['headline_new'].astype(str)\n",
    "   df3['headline_polarity'] = df3['headline_new'].parallel_apply(get_polarity)"
   ]
  },
  {
   "cell_type": "code",
   "execution_count": 5,
   "metadata": {},
   "outputs": [],
   "source": [
    "# Sentiment feature\n",
    "df3['sentiment'] = df3['headline_polarity'].parallel_apply(lambda x: 'Positive' if x > 0 \n",
    "                                                  else ('Negative' if x < 0 else 'Neutral'))"
   ]
  },
  {
   "cell_type": "code",
   "execution_count": 6,
   "metadata": {},
   "outputs": [
    {
     "data": {
      "text/html": [
       "<div>\n",
       "<style scoped>\n",
       "    .dataframe tbody tr th:only-of-type {\n",
       "        vertical-align: middle;\n",
       "    }\n",
       "\n",
       "    .dataframe tbody tr th {\n",
       "        vertical-align: top;\n",
       "    }\n",
       "\n",
       "    .dataframe thead th {\n",
       "        text-align: right;\n",
       "    }\n",
       "</style>\n",
       "<table border=\"1\" class=\"dataframe\">\n",
       "  <thead>\n",
       "    <tr style=\"text-align: right;\">\n",
       "      <th></th>\n",
       "      <th>headline</th>\n",
       "      <th>url</th>\n",
       "      <th>publisher</th>\n",
       "      <th>stock</th>\n",
       "      <th>headline_length</th>\n",
       "      <th>headline_new</th>\n",
       "      <th>headline_polarity</th>\n",
       "      <th>sentiment</th>\n",
       "    </tr>\n",
       "    <tr>\n",
       "      <th>date</th>\n",
       "      <th></th>\n",
       "      <th></th>\n",
       "      <th></th>\n",
       "      <th></th>\n",
       "      <th></th>\n",
       "      <th></th>\n",
       "      <th></th>\n",
       "      <th></th>\n",
       "    </tr>\n",
       "  </thead>\n",
       "  <tbody>\n",
       "    <tr>\n",
       "      <th>2014-08-07 04:00:00+00:00</th>\n",
       "      <td>Rubicon Technology, Inc. Reports Q2 EPS of $(0...</td>\n",
       "      <td>https://www.benzinga.com/news/earnings/14/08/4...</td>\n",
       "      <td>Eddie Staley</td>\n",
       "      <td>RBCN</td>\n",
       "      <td>100</td>\n",
       "      <td>rubicon technolog inc report q2 ep 0 39 vs 0 4...</td>\n",
       "      <td>0.0</td>\n",
       "      <td>Neutral</td>\n",
       "    </tr>\n",
       "    <tr>\n",
       "      <th>2013-03-08 04:00:00+00:00</th>\n",
       "      <td>German Industrial Production (MoM) 0.0% vs 0.5...</td>\n",
       "      <td>https://www.benzinga.com/news/13/03/3399329/ge...</td>\n",
       "      <td>Charles Gross</td>\n",
       "      <td>EWG</td>\n",
       "      <td>66</td>\n",
       "      <td>german industri product mom 0 0 vs 0 5 est 0 6...</td>\n",
       "      <td>0.0</td>\n",
       "      <td>Neutral</td>\n",
       "    </tr>\n",
       "    <tr>\n",
       "      <th>2010-11-04 04:00:00+00:00</th>\n",
       "      <td>DIRECTV Meets Zacks Estimates - Analyst Blog</td>\n",
       "      <td>https://www.benzinga.com/10/11/579919/directv-...</td>\n",
       "      <td>Zacks</td>\n",
       "      <td>DTV</td>\n",
       "      <td>44</td>\n",
       "      <td>directv meet zack estim analyst blog</td>\n",
       "      <td>0.0</td>\n",
       "      <td>Neutral</td>\n",
       "    </tr>\n",
       "    <tr>\n",
       "      <th>2015-03-20 04:00:00+00:00</th>\n",
       "      <td>8-K from Theravance Shows Co., Glaxo Introduci...</td>\n",
       "      <td>https://www.benzinga.com/news/15/03/5343741/8-...</td>\n",
       "      <td>Paul Quintaro</td>\n",
       "      <td>GSK</td>\n",
       "      <td>72</td>\n",
       "      <td>8 k therav show co glaxo introduc revlar ellip...</td>\n",
       "      <td>0.0</td>\n",
       "      <td>Neutral</td>\n",
       "    </tr>\n",
       "    <tr>\n",
       "      <th>2013-07-29 04:00:00+00:00</th>\n",
       "      <td>Inter Parfums USA Enters Exclusive License Dea...</td>\n",
       "      <td>https://www.benzinga.com/news/13/07/3790595/in...</td>\n",
       "      <td>Paul Quintaro</td>\n",
       "      <td>IPAR</td>\n",
       "      <td>80</td>\n",
       "      <td>inter parfum usa enter exclus licens deal agen...</td>\n",
       "      <td>0.0</td>\n",
       "      <td>Neutral</td>\n",
       "    </tr>\n",
       "  </tbody>\n",
       "</table>\n",
       "</div>"
      ],
      "text/plain": [
       "                                                                    headline  \\\n",
       "date                                                                           \n",
       "2014-08-07 04:00:00+00:00  Rubicon Technology, Inc. Reports Q2 EPS of $(0...   \n",
       "2013-03-08 04:00:00+00:00  German Industrial Production (MoM) 0.0% vs 0.5...   \n",
       "2010-11-04 04:00:00+00:00       DIRECTV Meets Zacks Estimates - Analyst Blog   \n",
       "2015-03-20 04:00:00+00:00  8-K from Theravance Shows Co., Glaxo Introduci...   \n",
       "2013-07-29 04:00:00+00:00  Inter Parfums USA Enters Exclusive License Dea...   \n",
       "\n",
       "                                                                         url  \\\n",
       "date                                                                           \n",
       "2014-08-07 04:00:00+00:00  https://www.benzinga.com/news/earnings/14/08/4...   \n",
       "2013-03-08 04:00:00+00:00  https://www.benzinga.com/news/13/03/3399329/ge...   \n",
       "2010-11-04 04:00:00+00:00  https://www.benzinga.com/10/11/579919/directv-...   \n",
       "2015-03-20 04:00:00+00:00  https://www.benzinga.com/news/15/03/5343741/8-...   \n",
       "2013-07-29 04:00:00+00:00  https://www.benzinga.com/news/13/07/3790595/in...   \n",
       "\n",
       "                               publisher stock  headline_length  \\\n",
       "date                                                              \n",
       "2014-08-07 04:00:00+00:00   Eddie Staley  RBCN              100   \n",
       "2013-03-08 04:00:00+00:00  Charles Gross   EWG               66   \n",
       "2010-11-04 04:00:00+00:00          Zacks   DTV               44   \n",
       "2015-03-20 04:00:00+00:00  Paul Quintaro   GSK               72   \n",
       "2013-07-29 04:00:00+00:00  Paul Quintaro  IPAR               80   \n",
       "\n",
       "                                                                headline_new  \\\n",
       "date                                                                           \n",
       "2014-08-07 04:00:00+00:00  rubicon technolog inc report q2 ep 0 39 vs 0 4...   \n",
       "2013-03-08 04:00:00+00:00  german industri product mom 0 0 vs 0 5 est 0 6...   \n",
       "2010-11-04 04:00:00+00:00               directv meet zack estim analyst blog   \n",
       "2015-03-20 04:00:00+00:00  8 k therav show co glaxo introduc revlar ellip...   \n",
       "2013-07-29 04:00:00+00:00  inter parfum usa enter exclus licens deal agen...   \n",
       "\n",
       "                           headline_polarity sentiment  \n",
       "date                                                    \n",
       "2014-08-07 04:00:00+00:00                0.0   Neutral  \n",
       "2013-03-08 04:00:00+00:00                0.0   Neutral  \n",
       "2010-11-04 04:00:00+00:00                0.0   Neutral  \n",
       "2015-03-20 04:00:00+00:00                0.0   Neutral  \n",
       "2013-07-29 04:00:00+00:00                0.0   Neutral  "
      ]
     },
     "execution_count": 6,
     "metadata": {},
     "output_type": "execute_result"
    }
   ],
   "source": [
    "df3.sample(5)"
   ]
  },
  {
   "cell_type": "code",
   "execution_count": 7,
   "metadata": {},
   "outputs": [
    {
     "data": {
      "text/plain": [
       "sentiment\n",
       "Neutral     661833\n",
       "Positive    130093\n",
       "Negative     53844\n",
       "Name: count, dtype: int64"
      ]
     },
     "execution_count": 7,
     "metadata": {},
     "output_type": "execute_result"
    }
   ],
   "source": [
    "df3['sentiment'].value_counts()"
   ]
  },
  {
   "cell_type": "code",
   "execution_count": 14,
   "metadata": {},
   "outputs": [
    {
     "data": {
      "text/plain": [
       "Text(0.5, 1.0, 'Summary of sentiments related to headline of news')"
      ]
     },
     "execution_count": 14,
     "metadata": {},
     "output_type": "execute_result"
    },
    {
     "data": {
      "image/png": "[encoded data removed]",
      "text/plain": [
       "<Figure size 640x480 with 1 Axes>"
      ]
     },
     "metadata": {},
     "output_type": "display_data"
    }
   ],
   "source": [
    "df3['sentiment'].value_counts().plot(kind='bar',color=['green', 'red', 'blue'])\n",
    "plt.title('Summary of sentiments related to headline of news')"
   ]
  },
  {
   "cell_type": "markdown",
   "metadata": {},
   "source": [
    "We note that the sentiments expressed in the newspaper headlines are much more neutral than positive. Some newspapers also express negative feelings in their headlines."
   ]
  }
 ],
 "metadata": {
  "kernelspec": {
   "display_name": "venv",
   "language": "python",
   "name": "python3"
  },
  "language_info": {
   "codemirror_mode": {
    "name": "ipython",
    "version": 3
   },
   "file_extension": ".py",
   "mimetype": "text/x-python",
   "name": "python",
   "nbconvert_exporter": "python",
   "pygments_lexer": "ipython3",
   "version": "3.11.9"
  }
 },
 "nbformat": 4,
 "nbformat_minor": 2
}
