{
 "cells": [
  {
   "cell_type": "markdown",
   "metadata": {},
   "source": [
    "### Loading packages and dataset"
   ]
  },
  {
   "cell_type": "code",
   "execution_count": 1,
   "metadata": {},
   "outputs": [],
   "source": [
    "import sys\n",
    "import os\n",
    "import datetime\n",
    "sys.path.append(os.path.abspath(os.path.join('..'))) # Adding racine path of project to sys.path\n",
    "import pandas as pd\n",
    "import matplotlib.pyplot as plt\n",
    "import seaborn as sns\n",
    "from src.preprocessing import *\n",
    "import warnings\n",
    "\n",
    "warnings.filterwarnings('ignore')"
   ]
  },
  {
   "cell_type": "code",
   "execution_count": 2,
   "metadata": {},
   "outputs": [
    {
     "name": "stdout",
     "output_type": "stream",
     "text": [
      "<class 'pandas.core.frame.DataFrame'>\n",
      "DatetimeIndex: 883429 entries, 2020-06-05 14:30:54+00:00 to 2011-05-12 04:00:00+00:00\n",
      "Data columns (total 4 columns):\n",
      " #   Column     Non-Null Count   Dtype \n",
      "---  ------     --------------   ----- \n",
      " 0   headline   883429 non-null  object\n",
      " 1   url        883429 non-null  object\n",
      " 2   publisher  883429 non-null  object\n",
      " 3   stock      883429 non-null  object\n",
      "dtypes: object(4)\n",
      "memory usage: 33.7+ MB\n"
     ]
    },
    {
     "data": {
      "text/html": [
       "<div>\n",
       "<style scoped>\n",
       "    .dataframe tbody tr th:only-of-type {\n",
       "        vertical-align: middle;\n",
       "    }\n",
       "\n",
       "    .dataframe tbody tr th {\n",
       "        vertical-align: top;\n",
       "    }\n",
       "\n",
       "    .dataframe thead th {\n",
       "        text-align: right;\n",
       "    }\n",
       "</style>\n",
       "<table border=\"1\" class=\"dataframe\">\n",
       "  <thead>\n",
       "    <tr style=\"text-align: right;\">\n",
       "      <th></th>\n",
       "      <th>headline</th>\n",
       "      <th>url</th>\n",
       "      <th>publisher</th>\n",
       "      <th>stock</th>\n",
       "    </tr>\n",
       "    <tr>\n",
       "      <th>date</th>\n",
       "      <th></th>\n",
       "      <th></th>\n",
       "      <th></th>\n",
       "      <th></th>\n",
       "    </tr>\n",
       "  </thead>\n",
       "  <tbody>\n",
       "    <tr>\n",
       "      <th>2020-06-05 14:30:54+00:00</th>\n",
       "      <td>Stocks That Hit 52-Week Highs On Friday</td>\n",
       "      <td>https://www.benzinga.com/news/20/06/16190091/s...</td>\n",
       "      <td>Benzinga Insights</td>\n",
       "      <td>A</td>\n",
       "    </tr>\n",
       "    <tr>\n",
       "      <th>2020-06-03 14:45:20+00:00</th>\n",
       "      <td>Stocks That Hit 52-Week Highs On Wednesday</td>\n",
       "      <td>https://www.benzinga.com/news/20/06/16170189/s...</td>\n",
       "      <td>Benzinga Insights</td>\n",
       "      <td>A</td>\n",
       "    </tr>\n",
       "    <tr>\n",
       "      <th>2020-05-26 08:30:07+00:00</th>\n",
       "      <td>71 Biggest Movers From Friday</td>\n",
       "      <td>https://www.benzinga.com/news/20/05/16103463/7...</td>\n",
       "      <td>Lisa Levin</td>\n",
       "      <td>A</td>\n",
       "    </tr>\n",
       "    <tr>\n",
       "      <th>2020-05-22 16:45:06+00:00</th>\n",
       "      <td>46 Stocks Moving In Friday's Mid-Day Session</td>\n",
       "      <td>https://www.benzinga.com/news/20/05/16095921/4...</td>\n",
       "      <td>Lisa Levin</td>\n",
       "      <td>A</td>\n",
       "    </tr>\n",
       "    <tr>\n",
       "      <th>2020-05-22 15:38:59+00:00</th>\n",
       "      <td>B of A Securities Maintains Neutral on Agilent...</td>\n",
       "      <td>https://www.benzinga.com/news/20/05/16095304/b...</td>\n",
       "      <td>Vick Meyer</td>\n",
       "      <td>A</td>\n",
       "    </tr>\n",
       "  </tbody>\n",
       "</table>\n",
       "</div>"
      ],
      "text/plain": [
       "                                                                    headline  \\\n",
       "date                                                                           \n",
       "2020-06-05 14:30:54+00:00            Stocks That Hit 52-Week Highs On Friday   \n",
       "2020-06-03 14:45:20+00:00         Stocks That Hit 52-Week Highs On Wednesday   \n",
       "2020-05-26 08:30:07+00:00                      71 Biggest Movers From Friday   \n",
       "2020-05-22 16:45:06+00:00       46 Stocks Moving In Friday's Mid-Day Session   \n",
       "2020-05-22 15:38:59+00:00  B of A Securities Maintains Neutral on Agilent...   \n",
       "\n",
       "                                                                         url  \\\n",
       "date                                                                           \n",
       "2020-06-05 14:30:54+00:00  https://www.benzinga.com/news/20/06/16190091/s...   \n",
       "2020-06-03 14:45:20+00:00  https://www.benzinga.com/news/20/06/16170189/s...   \n",
       "2020-05-26 08:30:07+00:00  https://www.benzinga.com/news/20/05/16103463/7...   \n",
       "2020-05-22 16:45:06+00:00  https://www.benzinga.com/news/20/05/16095921/4...   \n",
       "2020-05-22 15:38:59+00:00  https://www.benzinga.com/news/20/05/16095304/b...   \n",
       "\n",
       "                                   publisher stock  \n",
       "date                                                \n",
       "2020-06-05 14:30:54+00:00  Benzinga Insights     A  \n",
       "2020-06-03 14:45:20+00:00  Benzinga Insights     A  \n",
       "2020-05-26 08:30:07+00:00         Lisa Levin     A  \n",
       "2020-05-22 16:45:06+00:00         Lisa Levin     A  \n",
       "2020-05-22 15:38:59+00:00         Vick Meyer     A  "
      ]
     },
     "execution_count": 2,
     "metadata": {},
     "output_type": "execute_result"
    }
   ],
   "source": [
    "# Load dataset\n",
    "# Removing of feature 'Unnamed 0', removing duplicates based on url feature, transform date \n",
    "# feature in timestamp\n",
    "df1 = preprocess1('../data/raw_analyst_ratings.csv')\n",
    "df1.info()\n",
    "df1.head()"
   ]
  },
  {
   "cell_type": "markdown",
   "metadata": {},
   "source": [
    "### Descriptive statistics"
   ]
  },
  {
   "cell_type": "code",
   "execution_count": 3,
   "metadata": {},
   "outputs": [],
   "source": [
    "# Creation of a new feature (headline_length) \n",
    "df1['headline_length'] = df1['headline'].apply(lambda i: len(i))"
   ]
  },
  {
   "cell_type": "code",
   "execution_count": 4,
   "metadata": {},
   "outputs": [
    {
     "data": {
      "text/html": [
       "<div>\n",
       "<style scoped>\n",
       "    .dataframe tbody tr th:only-of-type {\n",
       "        vertical-align: middle;\n",
       "    }\n",
       "\n",
       "    .dataframe tbody tr th {\n",
       "        vertical-align: top;\n",
       "    }\n",
       "\n",
       "    .dataframe thead th {\n",
       "        text-align: right;\n",
       "    }\n",
       "</style>\n",
       "<table border=\"1\" class=\"dataframe\">\n",
       "  <thead>\n",
       "    <tr style=\"text-align: right;\">\n",
       "      <th></th>\n",
       "      <th>headline</th>\n",
       "      <th>url</th>\n",
       "      <th>publisher</th>\n",
       "      <th>stock</th>\n",
       "      <th>headline_length</th>\n",
       "    </tr>\n",
       "    <tr>\n",
       "      <th>date</th>\n",
       "      <th></th>\n",
       "      <th></th>\n",
       "      <th></th>\n",
       "      <th></th>\n",
       "      <th></th>\n",
       "    </tr>\n",
       "  </thead>\n",
       "  <tbody>\n",
       "    <tr>\n",
       "      <th>2016-06-16 04:00:00+00:00</th>\n",
       "      <td>GlycoMimetics Reports Proposed Public Offering...</td>\n",
       "      <td>https://www.benzinga.com/news/16/06/8121516/gl...</td>\n",
       "      <td>Paul Quintaro</td>\n",
       "      <td>GLYC</td>\n",
       "      <td>62</td>\n",
       "    </tr>\n",
       "    <tr>\n",
       "      <th>2015-11-10 04:00:00+00:00</th>\n",
       "      <td>McDonald's Issues Press Release: 'Executing Th...</td>\n",
       "      <td>https://www.benzinga.com/news/15/11/5972105/mc...</td>\n",
       "      <td>Paul Quintaro</td>\n",
       "      <td>MCD</td>\n",
       "      <td>64</td>\n",
       "    </tr>\n",
       "    <tr>\n",
       "      <th>2016-04-28 04:00:00+00:00</th>\n",
       "      <td>Nutraceutical Reports Q2 EPS $0.49 vs. Prior Y...</td>\n",
       "      <td>https://www.benzinga.com/news/earnings/16/04/7...</td>\n",
       "      <td>Paul Quintaro</td>\n",
       "      <td>NUTR</td>\n",
       "      <td>106</td>\n",
       "    </tr>\n",
       "    <tr>\n",
       "      <th>2012-10-24 04:00:00+00:00</th>\n",
       "      <td>UPDATE: Credit Suisse Reiterates Outperform Ra...</td>\n",
       "      <td>https://www.benzinga.com/analyst-ratings/analy...</td>\n",
       "      <td>Dwight Einhorn</td>\n",
       "      <td>VMW</td>\n",
       "      <td>71</td>\n",
       "    </tr>\n",
       "    <tr>\n",
       "      <th>2011-04-29 04:00:00+00:00</th>\n",
       "      <td>Benzinga's Political Roundup (GS, JPM, CYB)</td>\n",
       "      <td>https://www.benzinga.com/etfs/currency-etfs/11...</td>\n",
       "      <td>Jonathan Chen</td>\n",
       "      <td>CYB</td>\n",
       "      <td>43</td>\n",
       "    </tr>\n",
       "  </tbody>\n",
       "</table>\n",
       "</div>"
      ],
      "text/plain": [
       "                                                                    headline  \\\n",
       "date                                                                           \n",
       "2016-06-16 04:00:00+00:00  GlycoMimetics Reports Proposed Public Offering...   \n",
       "2015-11-10 04:00:00+00:00  McDonald's Issues Press Release: 'Executing Th...   \n",
       "2016-04-28 04:00:00+00:00  Nutraceutical Reports Q2 EPS $0.49 vs. Prior Y...   \n",
       "2012-10-24 04:00:00+00:00  UPDATE: Credit Suisse Reiterates Outperform Ra...   \n",
       "2011-04-29 04:00:00+00:00        Benzinga's Political Roundup (GS, JPM, CYB)   \n",
       "\n",
       "                                                                         url  \\\n",
       "date                                                                           \n",
       "2016-06-16 04:00:00+00:00  https://www.benzinga.com/news/16/06/8121516/gl...   \n",
       "2015-11-10 04:00:00+00:00  https://www.benzinga.com/news/15/11/5972105/mc...   \n",
       "2016-04-28 04:00:00+00:00  https://www.benzinga.com/news/earnings/16/04/7...   \n",
       "2012-10-24 04:00:00+00:00  https://www.benzinga.com/analyst-ratings/analy...   \n",
       "2011-04-29 04:00:00+00:00  https://www.benzinga.com/etfs/currency-etfs/11...   \n",
       "\n",
       "                                publisher stock  headline_length  \n",
       "date                                                              \n",
       "2016-06-16 04:00:00+00:00   Paul Quintaro  GLYC               62  \n",
       "2015-11-10 04:00:00+00:00   Paul Quintaro   MCD               64  \n",
       "2016-04-28 04:00:00+00:00   Paul Quintaro  NUTR              106  \n",
       "2012-10-24 04:00:00+00:00  Dwight Einhorn   VMW               71  \n",
       "2011-04-29 04:00:00+00:00   Jonathan Chen   CYB               43  "
      ]
     },
     "execution_count": 4,
     "metadata": {},
     "output_type": "execute_result"
    }
   ],
   "source": [
    "df1.sample(5)"
   ]
  },
  {
   "cell_type": "code",
   "execution_count": 5,
   "metadata": {},
   "outputs": [
    {
     "data": {
      "text/plain": [
       "count    883429.000000\n",
       "mean         76.122674\n",
       "std          35.332037\n",
       "min           3.000000\n",
       "25%          52.000000\n",
       "50%          71.000000\n",
       "75%          90.000000\n",
       "max         512.000000\n",
       "Name: headline_length, dtype: float64"
      ]
     },
     "execution_count": 5,
     "metadata": {},
     "output_type": "execute_result"
    }
   ],
   "source": [
    "df1['headline_length'].describe()"
   ]
  },
  {
   "cell_type": "code",
   "execution_count": 6,
   "metadata": {},
   "outputs": [
    {
     "data": {
      "text/plain": [
       "array(['SPY', 'SRS', 'J.P', 'AMJ', 'J.P', 'PCP', 'QID', 'SUN', 'SUN',\n",
       "       'TJX', 'WNR'], dtype=object)"
      ]
     },
     "execution_count": 6,
     "metadata": {},
     "output_type": "execute_result"
    }
   ],
   "source": [
    "df1['headline'][df1['headline_length']==3].values"
   ]
  },
  {
   "cell_type": "markdown",
   "metadata": {},
   "source": [
    "We notice the presence of headlines with 3 characters. These characters are 'SPY', 'SRS', 'J.P', 'AMJ', 'J.P', 'PCP', 'QID', 'SUN', 'SUN', 'TJX', 'WNR'"
   ]
  },
  {
   "cell_type": "code",
   "execution_count": 7,
   "metadata": {},
   "outputs": [
    {
     "data": {
      "text/plain": [
       "publisher\n",
       "47ertrends                        2\n",
       "AARP                              2\n",
       "ABNNewswire                      10\n",
       "Aakin                             4\n",
       "Aaron Jackson.Ed                  6\n",
       "                              ...  \n",
       "vic@forextraininggroup.com        1\n",
       "vishwanath@benzinga.com        1830\n",
       "vivek.proactive@gmail.com       120\n",
       "wallstreet1928                    8\n",
       "webmaster                     14214\n",
       "Name: publisher, Length: 1034, dtype: int64"
      ]
     },
     "execution_count": 7,
     "metadata": {},
     "output_type": "execute_result"
    }
   ],
   "source": [
    "# Number or articles per publisher\n",
    "pub_art = df1['publisher'].groupby(df1['publisher']).count()\n",
    "pub_art"
   ]
  },
  {
   "cell_type": "code",
   "execution_count": 25,
   "metadata": {},
   "outputs": [
    {
     "data": {
      "text/plain": [
       "['Paul Quintaro',\n",
       " 'Benzinga Newsdesk',\n",
       " 'Charles Gross',\n",
       " 'Eddie Staley',\n",
       " 'Hal Lindon',\n",
       " 'Juan Lopez',\n",
       " 'Monica Gerson',\n",
       " 'Lisa Levin',\n",
       " 'Vick Meyer',\n",
       " 'Benzinga Staff']"
      ]
     },
     "execution_count": 25,
     "metadata": {},
     "output_type": "execute_result"
    }
   ],
   "source": [
    "# 10 best publisher based on the number of publication\n",
    "list(pub_art.sort_values(ascending=False)[:10].index)"
   ]
  },
  {
   "cell_type": "code",
   "execution_count": 29,
   "metadata": {},
   "outputs": [
    {
     "data": {
      "text/plain": [
       "Text(0.5, 1.0, '10 best publishers')"
      ]
     },
     "execution_count": 29,
     "metadata": {},
     "output_type": "execute_result"
    },
    {
     "data": {
      "image/png": "[encoded data removed]",
      "text/plain": [
       "<Figure size 640x480 with 1 Axes>"
      ]
     },
     "metadata": {},
     "output_type": "display_data"
    }
   ],
   "source": [
    "pub_art.sort_values(ascending=False)[:10].plot(kind='bar')\n",
    "plt.ylabel('Number of publications')\n",
    "plt.title('10 best publishers')"
   ]
  },
  {
   "cell_type": "code",
   "execution_count": 9,
   "metadata": {},
   "outputs": [
    {
     "data": {
      "text/plain": [
       "publisher\n",
       "Accointing                    1\n",
       "Adam Sarhan                   1\n",
       "Adam Weiner                   1\n",
       "Alex Roslin                   1\n",
       "Alexander Voigt               1\n",
       "                             ..\n",
       "parvgoel                      1\n",
       "phil                          1\n",
       "summers s                     1\n",
       "swenstock                     1\n",
       "vic@forextraininggroup.com    1\n",
       "Name: publisher, Length: 249, dtype: int64"
      ]
     },
     "execution_count": 9,
     "metadata": {},
     "output_type": "execute_result"
    }
   ],
   "source": [
    "# Last publisher based on the number of publication\n",
    "# Since, there are several to have published one time, we are going list all publishers who have \n",
    "# this statistic. There are 249.\n",
    "pub_art[pub_art==1]"
   ]
  },
  {
   "cell_type": "markdown",
   "metadata": {},
   "source": [
    "#### Trends on the publications"
   ]
  },
  {
   "cell_type": "code",
   "execution_count": 20,
   "metadata": {},
   "outputs": [
    {
     "data": {
      "text/plain": [
       "date\n",
       "Thursday     194910\n",
       "Wednesday    192896\n",
       "Tuesday      190640\n",
       "Monday       166969\n",
       "Friday       129103\n",
       "Sunday         5888\n",
       "Saturday       3023\n",
       "Name: count, dtype: int64"
      ]
     },
     "execution_count": 20,
     "metadata": {},
     "output_type": "execute_result"
    }
   ],
   "source": [
    "trend_per_day = df1.index.day_name().value_counts()\n",
    "trend_per_day"
   ]
  },
  {
   "cell_type": "code",
   "execution_count": 24,
   "metadata": {},
   "outputs": [
    {
     "data": {
      "text/plain": [
       "Text(0.5, 1.0, 'Number of publications based on the day of the week')"
      ]
     },
     "execution_count": 24,
     "metadata": {},
     "output_type": "execute_result"
    },
    {
     "data": {
      "image/png": "[encoded data removed]",
      "text/plain": [
       "<Figure size 640x480 with 1 Axes>"
      ]
     },
     "metadata": {},
     "output_type": "display_data"
    }
   ],
   "source": [
    "days_order = ['Monday', 'Tuesday', 'Wednesday', 'Thursday', 'Friday', 'Saturday', 'Sunday']\n",
    "trend_per_day = trend_per_day.reindex(days_order)\n",
    "trend_per_day.plot()\n",
    "plt.xlabel('Day')\n",
    "plt.ylabel('Number of publications')\n",
    "plt.title('Number of publications based on the day of the week')"
   ]
  },
  {
   "cell_type": "markdown",
   "metadata": {},
   "source": [
    "We notice there are a lot of publications from Tuesday to Thursday. Week end saved less of publications"
   ]
  },
  {
   "cell_type": "code",
   "execution_count": null,
   "metadata": {},
   "outputs": [],
   "source": []
  }
 ],
 "metadata": {
  "kernelspec": {
   "display_name": "venv",
   "language": "python",
   "name": "python3"
  },
  "language_info": {
   "codemirror_mode": {
    "name": "ipython",
    "version": 3
   },
   "file_extension": ".py",
   "mimetype": "text/x-python",
   "name": "python",
   "nbconvert_exporter": "python",
   "pygments_lexer": "ipython3",
   "version": "3.11.9"
  }
 },
 "nbformat": 4,
 "nbformat_minor": 2
}
